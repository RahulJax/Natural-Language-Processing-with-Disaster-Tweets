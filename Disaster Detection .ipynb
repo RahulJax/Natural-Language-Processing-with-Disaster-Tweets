{
 "cells": [
  {
   "cell_type": "code",
   "execution_count": 1,
   "metadata": {},
   "outputs": [],
   "source": [
    "import pandas as pd\n",
    "import numpy as np"
   ]
  },
  {
   "cell_type": "code",
   "execution_count": 2,
   "metadata": {},
   "outputs": [],
   "source": [
    "dataset = pd.read_csv(\"train.csv\" )\n",
    "test_set = pd.read_csv(\"test.csv\" )"
   ]
  },
  {
   "cell_type": "code",
   "execution_count": 3,
   "metadata": {},
   "outputs": [],
   "source": [
    "test_name = pd.read_csv(\"test.csv\" )"
   ]
  },
  {
   "cell_type": "code",
   "execution_count": 4,
   "metadata": {},
   "outputs": [
    {
     "data": {
      "text/html": [
       "<div>\n",
       "<style scoped>\n",
       "    .dataframe tbody tr th:only-of-type {\n",
       "        vertical-align: middle;\n",
       "    }\n",
       "\n",
       "    .dataframe tbody tr th {\n",
       "        vertical-align: top;\n",
       "    }\n",
       "\n",
       "    .dataframe thead th {\n",
       "        text-align: right;\n",
       "    }\n",
       "</style>\n",
       "<table border=\"1\" class=\"dataframe\">\n",
       "  <thead>\n",
       "    <tr style=\"text-align: right;\">\n",
       "      <th></th>\n",
       "      <th>id</th>\n",
       "      <th>keyword</th>\n",
       "      <th>location</th>\n",
       "      <th>text</th>\n",
       "      <th>target</th>\n",
       "    </tr>\n",
       "  </thead>\n",
       "  <tbody>\n",
       "    <tr>\n",
       "      <th>0</th>\n",
       "      <td>1</td>\n",
       "      <td>NaN</td>\n",
       "      <td>NaN</td>\n",
       "      <td>Our Deeds are the Reason of this #earthquake M...</td>\n",
       "      <td>1</td>\n",
       "    </tr>\n",
       "    <tr>\n",
       "      <th>1</th>\n",
       "      <td>4</td>\n",
       "      <td>NaN</td>\n",
       "      <td>NaN</td>\n",
       "      <td>Forest fire near La Ronge Sask. Canada</td>\n",
       "      <td>1</td>\n",
       "    </tr>\n",
       "    <tr>\n",
       "      <th>2</th>\n",
       "      <td>5</td>\n",
       "      <td>NaN</td>\n",
       "      <td>NaN</td>\n",
       "      <td>All residents asked to 'shelter in place' are ...</td>\n",
       "      <td>1</td>\n",
       "    </tr>\n",
       "    <tr>\n",
       "      <th>3</th>\n",
       "      <td>6</td>\n",
       "      <td>NaN</td>\n",
       "      <td>NaN</td>\n",
       "      <td>13,000 people receive #wildfires evacuation or...</td>\n",
       "      <td>1</td>\n",
       "    </tr>\n",
       "    <tr>\n",
       "      <th>4</th>\n",
       "      <td>7</td>\n",
       "      <td>NaN</td>\n",
       "      <td>NaN</td>\n",
       "      <td>Just got sent this photo from Ruby #Alaska as ...</td>\n",
       "      <td>1</td>\n",
       "    </tr>\n",
       "  </tbody>\n",
       "</table>\n",
       "</div>"
      ],
      "text/plain": [
       "   id keyword location                                               text  \\\n",
       "0   1     NaN      NaN  Our Deeds are the Reason of this #earthquake M...   \n",
       "1   4     NaN      NaN             Forest fire near La Ronge Sask. Canada   \n",
       "2   5     NaN      NaN  All residents asked to 'shelter in place' are ...   \n",
       "3   6     NaN      NaN  13,000 people receive #wildfires evacuation or...   \n",
       "4   7     NaN      NaN  Just got sent this photo from Ruby #Alaska as ...   \n",
       "\n",
       "   target  \n",
       "0       1  \n",
       "1       1  \n",
       "2       1  \n",
       "3       1  \n",
       "4       1  "
      ]
     },
     "execution_count": 4,
     "metadata": {},
     "output_type": "execute_result"
    }
   ],
   "source": [
    "dataset.head()"
   ]
  },
  {
   "cell_type": "code",
   "execution_count": 5,
   "metadata": {},
   "outputs": [],
   "source": [
    "columns_to_drop=['id','keyword','location']\n",
    "dataset.drop(columns=columns_to_drop, axis=1,inplace=True)"
   ]
  },
  {
   "cell_type": "code",
   "execution_count": 6,
   "metadata": {},
   "outputs": [
    {
     "data": {
      "text/html": [
       "<div>\n",
       "<style scoped>\n",
       "    .dataframe tbody tr th:only-of-type {\n",
       "        vertical-align: middle;\n",
       "    }\n",
       "\n",
       "    .dataframe tbody tr th {\n",
       "        vertical-align: top;\n",
       "    }\n",
       "\n",
       "    .dataframe thead th {\n",
       "        text-align: right;\n",
       "    }\n",
       "</style>\n",
       "<table border=\"1\" class=\"dataframe\">\n",
       "  <thead>\n",
       "    <tr style=\"text-align: right;\">\n",
       "      <th></th>\n",
       "      <th>text</th>\n",
       "      <th>target</th>\n",
       "    </tr>\n",
       "  </thead>\n",
       "  <tbody>\n",
       "    <tr>\n",
       "      <th>0</th>\n",
       "      <td>Our Deeds are the Reason of this #earthquake M...</td>\n",
       "      <td>1</td>\n",
       "    </tr>\n",
       "    <tr>\n",
       "      <th>1</th>\n",
       "      <td>Forest fire near La Ronge Sask. Canada</td>\n",
       "      <td>1</td>\n",
       "    </tr>\n",
       "    <tr>\n",
       "      <th>2</th>\n",
       "      <td>All residents asked to 'shelter in place' are ...</td>\n",
       "      <td>1</td>\n",
       "    </tr>\n",
       "    <tr>\n",
       "      <th>3</th>\n",
       "      <td>13,000 people receive #wildfires evacuation or...</td>\n",
       "      <td>1</td>\n",
       "    </tr>\n",
       "    <tr>\n",
       "      <th>4</th>\n",
       "      <td>Just got sent this photo from Ruby #Alaska as ...</td>\n",
       "      <td>1</td>\n",
       "    </tr>\n",
       "    <tr>\n",
       "      <th>5</th>\n",
       "      <td>#RockyFire Update =&gt; California Hwy. 20 closed...</td>\n",
       "      <td>1</td>\n",
       "    </tr>\n",
       "    <tr>\n",
       "      <th>6</th>\n",
       "      <td>#flood #disaster Heavy rain causes flash flood...</td>\n",
       "      <td>1</td>\n",
       "    </tr>\n",
       "    <tr>\n",
       "      <th>7</th>\n",
       "      <td>I'm on top of the hill and I can see a fire in...</td>\n",
       "      <td>1</td>\n",
       "    </tr>\n",
       "    <tr>\n",
       "      <th>8</th>\n",
       "      <td>There's an emergency evacuation happening now ...</td>\n",
       "      <td>1</td>\n",
       "    </tr>\n",
       "    <tr>\n",
       "      <th>9</th>\n",
       "      <td>I'm afraid that the tornado is coming to our a...</td>\n",
       "      <td>1</td>\n",
       "    </tr>\n",
       "  </tbody>\n",
       "</table>\n",
       "</div>"
      ],
      "text/plain": [
       "                                                text  target\n",
       "0  Our Deeds are the Reason of this #earthquake M...       1\n",
       "1             Forest fire near La Ronge Sask. Canada       1\n",
       "2  All residents asked to 'shelter in place' are ...       1\n",
       "3  13,000 people receive #wildfires evacuation or...       1\n",
       "4  Just got sent this photo from Ruby #Alaska as ...       1\n",
       "5  #RockyFire Update => California Hwy. 20 closed...       1\n",
       "6  #flood #disaster Heavy rain causes flash flood...       1\n",
       "7  I'm on top of the hill and I can see a fire in...       1\n",
       "8  There's an emergency evacuation happening now ...       1\n",
       "9  I'm afraid that the tornado is coming to our a...       1"
      ]
     },
     "execution_count": 6,
     "metadata": {},
     "output_type": "execute_result"
    }
   ],
   "source": [
    "dataset.head(10)"
   ]
  },
  {
   "cell_type": "code",
   "execution_count": 7,
   "metadata": {},
   "outputs": [],
   "source": [
    "sentences=dataset['text'].values"
   ]
  },
  {
   "cell_type": "code",
   "execution_count": 8,
   "metadata": {},
   "outputs": [
    {
     "data": {
      "text/plain": [
       "array(['Our Deeds are the Reason of this #earthquake May ALLAH Forgive us all',\n",
       "       'Forest fire near La Ronge Sask. Canada',\n",
       "       \"All residents asked to 'shelter in place' are being notified by officers. No other evacuation or shelter in place orders are expected\",\n",
       "       ...,\n",
       "       'M1.94 [01:04 UTC]?5km S of Volcano Hawaii. http://t.co/zDtoyd8EbJ',\n",
       "       'Police investigating after an e-bike collided with a car in Little Portugal. E-bike rider suffered serious non-life threatening injuries.',\n",
       "       'The Latest: More Homes Razed by Northern California Wildfire - ABC News http://t.co/YmY4rSkQ3d'],\n",
       "      dtype=object)"
      ]
     },
     "execution_count": 8,
     "metadata": {},
     "output_type": "execute_result"
    }
   ],
   "source": [
    "sentences"
   ]
  },
  {
   "cell_type": "code",
   "execution_count": 9,
   "metadata": {},
   "outputs": [],
   "source": [
    "import re\n",
    "\n",
    "from nltk.corpus import stopwords\n",
    "from nltk.stem.porter import PorterStemmer\n",
    "corpus = []\n",
    "for i in range(len(sentences)):\n",
    "  review = re.sub('[^a-zA-Z\\']', ' ', dataset['text'][i])\n",
    "  review = review.lower()\n",
    "  review = review.split()\n",
    "  review = ' '.join(review)\n",
    "  corpus.append(review)"
   ]
  },
  {
   "cell_type": "code",
   "execution_count": 10,
   "metadata": {},
   "outputs": [
    {
     "data": {
      "text/plain": [
       "7613"
      ]
     },
     "execution_count": 10,
     "metadata": {},
     "output_type": "execute_result"
    }
   ],
   "source": [
    "len(corpus)"
   ]
  },
  {
   "cell_type": "code",
   "execution_count": 11,
   "metadata": {},
   "outputs": [],
   "source": [
    "labels = dataset['target'].values"
   ]
  },
  {
   "cell_type": "markdown",
   "metadata": {},
   "source": [
    "# Bag of words"
   ]
  },
  {
   "cell_type": "code",
   "execution_count": 12,
   "metadata": {},
   "outputs": [],
   "source": [
    "from sklearn.feature_extraction.text import CountVectorizer\n",
    "cv = CountVectorizer(max_features=20000)\n",
    "#test_size = 6000\n",
    "\n",
    "#X_train = corpus[:test_size]\n",
    "#X_test = corpus[test_size:]\n",
    "\n",
    "#y_train = labels[:test_size]\n",
    "#y_test = labels[test_size:]\n",
    "\n",
    "\n",
    "\n",
    "#X_train = cv.fit_transform(X_train).toarray()\n",
    "#X_test = cv.transform(X_test).toarray()\n",
    "\n",
    "#X_train=np.array(X_train)\n",
    "#X_test=np.array(X_test)\n"
   ]
  },
  {
   "cell_type": "code",
   "execution_count": 13,
   "metadata": {},
   "outputs": [],
   "source": [
    "X =corpus\n",
    "y= labels"
   ]
  },
  {
   "cell_type": "code",
   "execution_count": 14,
   "metadata": {},
   "outputs": [],
   "source": [
    "from sklearn.model_selection import train_test_split\n",
    "X_train, X_test, y_train, y_test = train_test_split(X, y, test_size =0.1, random_state =0)"
   ]
  },
  {
   "cell_type": "code",
   "execution_count": null,
   "metadata": {},
   "outputs": [],
   "source": []
  },
  {
   "cell_type": "code",
   "execution_count": 15,
   "metadata": {},
   "outputs": [
    {
     "data": {
      "text/plain": [
       "array([1, 1, 1, ..., 1, 1, 1])"
      ]
     },
     "execution_count": 15,
     "metadata": {},
     "output_type": "execute_result"
    }
   ],
   "source": [
    "y"
   ]
  },
  {
   "cell_type": "code",
   "execution_count": 16,
   "metadata": {},
   "outputs": [],
   "source": [
    "X_train = cv.fit_transform(X_train).toarray()"
   ]
  },
  {
   "cell_type": "code",
   "execution_count": 17,
   "metadata": {},
   "outputs": [],
   "source": [
    "X_test = cv.transform(X_test).toarray()"
   ]
  },
  {
   "cell_type": "markdown",
   "metadata": {},
   "source": [
    "# Naive Bayes"
   ]
  },
  {
   "cell_type": "code",
   "execution_count": 18,
   "metadata": {},
   "outputs": [
    {
     "data": {
      "text/plain": [
       "GaussianNB()"
      ]
     },
     "execution_count": 18,
     "metadata": {},
     "output_type": "execute_result"
    }
   ],
   "source": [
    "from sklearn.naive_bayes import GaussianNB\n",
    "classifier = GaussianNB()\n",
    "classifier.fit(X_train, y_train)"
   ]
  },
  {
   "cell_type": "code",
   "execution_count": 19,
   "metadata": {},
   "outputs": [
    {
     "name": "stdout",
     "output_type": "stream",
     "text": [
      "[[1 0]\n",
      " [1 0]\n",
      " [1 0]\n",
      " ...\n",
      " [1 0]\n",
      " [0 0]\n",
      " [1 1]]\n"
     ]
    }
   ],
   "source": [
    "y_pred = classifier.predict(X_test)\n",
    "print(np.concatenate((y_pred.reshape(len(y_pred),1), y_test.reshape(len(y_test),1)),1))"
   ]
  },
  {
   "cell_type": "code",
   "execution_count": 20,
   "metadata": {},
   "outputs": [
    {
     "name": "stdout",
     "output_type": "stream",
     "text": [
      "[[202 245]\n",
      " [ 64 251]]\n"
     ]
    },
    {
     "data": {
      "text/plain": [
       "0.594488188976378"
      ]
     },
     "execution_count": 20,
     "metadata": {},
     "output_type": "execute_result"
    }
   ],
   "source": [
    "from sklearn.metrics import confusion_matrix, accuracy_score\n",
    "cm = confusion_matrix(y_test, y_pred)\n",
    "print(cm)\n",
    "accuracy_score(y_test, y_pred)"
   ]
  },
  {
   "cell_type": "markdown",
   "metadata": {},
   "source": [
    "# Random Forest"
   ]
  },
  {
   "cell_type": "code",
   "execution_count": 21,
   "metadata": {},
   "outputs": [],
   "source": [
    "from sklearn.ensemble import RandomForestClassifier"
   ]
  },
  {
   "cell_type": "code",
   "execution_count": 22,
   "metadata": {},
   "outputs": [
    {
     "data": {
      "text/plain": [
       "RandomForestClassifier()"
      ]
     },
     "execution_count": 22,
     "metadata": {},
     "output_type": "execute_result"
    }
   ],
   "source": [
    "rf = RandomForestClassifier()\n",
    "rf.fit(X_train, y_train)"
   ]
  },
  {
   "cell_type": "code",
   "execution_count": 23,
   "metadata": {},
   "outputs": [
    {
     "name": "stdout",
     "output_type": "stream",
     "text": [
      "[[0 0]\n",
      " [0 0]\n",
      " [0 0]\n",
      " ...\n",
      " [0 0]\n",
      " [0 0]\n",
      " [1 1]]\n"
     ]
    }
   ],
   "source": [
    "y_pred = rf.predict(X_test)\n",
    "print(np.concatenate((y_pred.reshape(len(y_pred),1), y_test.reshape(len(y_test),1)),1))"
   ]
  },
  {
   "cell_type": "code",
   "execution_count": 24,
   "metadata": {},
   "outputs": [
    {
     "data": {
      "text/plain": [
       "0.7808398950131233"
      ]
     },
     "execution_count": 24,
     "metadata": {},
     "output_type": "execute_result"
    }
   ],
   "source": [
    "from sklearn.metrics import confusion_matrix, accuracy_score\n",
    "cm = confusion_matrix(y_test, y_pred)\n",
    "accuracy_score(y_test, y_pred)"
   ]
  },
  {
   "cell_type": "markdown",
   "metadata": {},
   "source": [
    "# Decision Tree"
   ]
  },
  {
   "cell_type": "code",
   "execution_count": 25,
   "metadata": {},
   "outputs": [],
   "source": [
    "from sklearn.tree import DecisionTreeClassifier"
   ]
  },
  {
   "cell_type": "code",
   "execution_count": 26,
   "metadata": {},
   "outputs": [
    {
     "data": {
      "text/plain": [
       "DecisionTreeClassifier()"
      ]
     },
     "execution_count": 26,
     "metadata": {},
     "output_type": "execute_result"
    }
   ],
   "source": [
    "cart = DecisionTreeClassifier()\n",
    "cart.fit(X_train, y_train)"
   ]
  },
  {
   "cell_type": "code",
   "execution_count": 27,
   "metadata": {},
   "outputs": [
    {
     "name": "stdout",
     "output_type": "stream",
     "text": [
      "[[0 0]\n",
      " [0 0]\n",
      " [1 0]\n",
      " ...\n",
      " [0 0]\n",
      " [0 0]\n",
      " [1 1]]\n"
     ]
    }
   ],
   "source": [
    "y_pred = cart.predict(X_test)\n",
    "print(np.concatenate((y_pred.reshape(len(y_pred),1), y_test.reshape(len(y_test),1)),1))"
   ]
  },
  {
   "cell_type": "code",
   "execution_count": 28,
   "metadata": {},
   "outputs": [
    {
     "name": "stdout",
     "output_type": "stream",
     "text": [
      "[[363  84]\n",
      " [125 190]]\n"
     ]
    },
    {
     "data": {
      "text/plain": [
       "0.7257217847769029"
      ]
     },
     "execution_count": 28,
     "metadata": {},
     "output_type": "execute_result"
    }
   ],
   "source": [
    "from sklearn.metrics import confusion_matrix, accuracy_score\n",
    "cm = confusion_matrix(y_test, y_pred)\n",
    "print(cm)\n",
    "accuracy_score(y_test, y_pred)"
   ]
  },
  {
   "cell_type": "markdown",
   "metadata": {},
   "source": [
    "# Extra Trees"
   ]
  },
  {
   "cell_type": "code",
   "execution_count": 29,
   "metadata": {},
   "outputs": [],
   "source": [
    "from sklearn.ensemble import ExtraTreesClassifier"
   ]
  },
  {
   "cell_type": "code",
   "execution_count": 30,
   "metadata": {},
   "outputs": [
    {
     "data": {
      "text/plain": [
       "ExtraTreesClassifier()"
      ]
     },
     "execution_count": 30,
     "metadata": {},
     "output_type": "execute_result"
    }
   ],
   "source": [
    "etc=ExtraTreesClassifier()\n",
    "etc.fit(X_train, y_train)"
   ]
  },
  {
   "cell_type": "code",
   "execution_count": 31,
   "metadata": {},
   "outputs": [
    {
     "name": "stdout",
     "output_type": "stream",
     "text": [
      "[[0 0]\n",
      " [0 0]\n",
      " [0 0]\n",
      " ...\n",
      " [0 0]\n",
      " [0 0]\n",
      " [1 1]]\n"
     ]
    }
   ],
   "source": [
    "y_pred = etc.predict(X_test)\n",
    "print(np.concatenate((y_pred.reshape(len(y_pred),1), y_test.reshape(len(y_test),1)),1))"
   ]
  },
  {
   "cell_type": "code",
   "execution_count": 32,
   "metadata": {},
   "outputs": [
    {
     "name": "stdout",
     "output_type": "stream",
     "text": [
      "[[414  33]\n",
      " [125 190]]\n"
     ]
    },
    {
     "data": {
      "text/plain": [
       "0.7926509186351706"
      ]
     },
     "execution_count": 32,
     "metadata": {},
     "output_type": "execute_result"
    }
   ],
   "source": [
    "from sklearn.metrics import confusion_matrix, accuracy_score\n",
    "cm = confusion_matrix(y_test, y_pred)\n",
    "print(cm)\n",
    "accuracy_score(y_test, y_pred)"
   ]
  },
  {
   "cell_type": "markdown",
   "metadata": {},
   "source": [
    "# XGBoost"
   ]
  },
  {
   "cell_type": "code",
   "execution_count": 33,
   "metadata": {},
   "outputs": [],
   "source": [
    "#pip install xgboost"
   ]
  },
  {
   "cell_type": "code",
   "execution_count": 34,
   "metadata": {},
   "outputs": [],
   "source": [
    "from xgboost import XGBClassifier"
   ]
  },
  {
   "cell_type": "code",
   "execution_count": 35,
   "metadata": {},
   "outputs": [
    {
     "name": "stderr",
     "output_type": "stream",
     "text": [
      "/opt/anaconda3/lib/python3.8/site-packages/xgboost/sklearn.py:888: UserWarning: The use of label encoder in XGBClassifier is deprecated and will be removed in a future release. To remove this warning, do the following: 1) Pass option use_label_encoder=False when constructing XGBClassifier object; and 2) Encode your labels (y) as integers starting with 0, i.e. 0, 1, 2, ..., [num_class - 1].\n",
      "  warnings.warn(label_encoder_deprecation_msg, UserWarning)\n"
     ]
    },
    {
     "name": "stdout",
     "output_type": "stream",
     "text": [
      "[02:19:05] WARNING: /opt/concourse/worker/volumes/live/7a2b9f41-3287-451b-6691-43e9a6c0910f/volume/xgboost-split_1619728204606/work/src/learner.cc:1061: Starting in XGBoost 1.3.0, the default evaluation metric used with the objective 'binary:logistic' was changed from 'error' to 'logloss'. Explicitly set eval_metric if you'd like to restore the old behavior.\n"
     ]
    },
    {
     "data": {
      "text/plain": [
       "XGBClassifier(base_score=0.5, booster='gbtree', colsample_bylevel=1,\n",
       "              colsample_bynode=1, colsample_bytree=1, gamma=0, gpu_id=-1,\n",
       "              importance_type='gain', interaction_constraints='',\n",
       "              learning_rate=0.300000012, max_delta_step=0, max_depth=6,\n",
       "              min_child_weight=1, missing=nan, monotone_constraints='()',\n",
       "              n_estimators=100, n_jobs=8, num_parallel_tree=1, random_state=0,\n",
       "              reg_alpha=0, reg_lambda=1, scale_pos_weight=1, subsample=1,\n",
       "              tree_method='exact', validate_parameters=1, verbosity=None)"
      ]
     },
     "execution_count": 35,
     "metadata": {},
     "output_type": "execute_result"
    }
   ],
   "source": [
    "xgb = XGBClassifier()\n",
    "xgb.fit(X_train, y_train)"
   ]
  },
  {
   "cell_type": "code",
   "execution_count": 36,
   "metadata": {},
   "outputs": [
    {
     "name": "stdout",
     "output_type": "stream",
     "text": [
      "[[0 0]\n",
      " [1 0]\n",
      " [1 0]\n",
      " ...\n",
      " [0 0]\n",
      " [0 0]\n",
      " [1 1]]\n"
     ]
    }
   ],
   "source": [
    "y_pred = xgb.predict(X_test)\n",
    "print(np.concatenate((y_pred.reshape(len(y_pred),1), y_test.reshape(len(y_test),1)),1))"
   ]
  },
  {
   "cell_type": "code",
   "execution_count": 37,
   "metadata": {},
   "outputs": [
    {
     "name": "stdout",
     "output_type": "stream",
     "text": [
      "[[401  46]\n",
      " [120 195]]\n"
     ]
    },
    {
     "data": {
      "text/plain": [
       "0.7821522309711286"
      ]
     },
     "execution_count": 37,
     "metadata": {},
     "output_type": "execute_result"
    }
   ],
   "source": [
    "from sklearn.metrics import confusion_matrix, accuracy_score\n",
    "cm = confusion_matrix(y_test, y_pred)\n",
    "print(cm)\n",
    "accuracy_score(y_test, y_pred)"
   ]
  },
  {
   "cell_type": "markdown",
   "metadata": {},
   "source": [
    "# Deep NLP"
   ]
  },
  {
   "cell_type": "code",
   "execution_count": 38,
   "metadata": {},
   "outputs": [],
   "source": [
    "import tensorflow as tf"
   ]
  },
  {
   "cell_type": "code",
   "execution_count": 39,
   "metadata": {},
   "outputs": [],
   "source": [
    "vocab_size = 10000\n",
    "embedding_dim = 16\n",
    "max_length = 100\n",
    "trunc_type='post'\n",
    "padding_type='post'\n",
    "oov_tok = \"<OOV>\"\n",
    "training_size = 6000"
   ]
  },
  {
   "cell_type": "code",
   "execution_count": 40,
   "metadata": {},
   "outputs": [
    {
     "data": {
      "text/plain": [
       "(7613, 2)"
      ]
     },
     "execution_count": 40,
     "metadata": {},
     "output_type": "execute_result"
    }
   ],
   "source": [
    "dataset.shape"
   ]
  },
  {
   "cell_type": "code",
   "execution_count": 41,
   "metadata": {},
   "outputs": [],
   "source": [
    "labels = dataset['target'].values"
   ]
  },
  {
   "cell_type": "code",
   "execution_count": 42,
   "metadata": {},
   "outputs": [],
   "source": [
    "training_sentences = corpus[0:training_size]\n",
    "testing_sentences = corpus[training_size:]\n",
    "training_labels = labels[0:training_size]\n",
    "testing_labels = labels[training_size:]"
   ]
  },
  {
   "cell_type": "code",
   "execution_count": 43,
   "metadata": {},
   "outputs": [],
   "source": [
    "from tensorflow.keras.preprocessing.text import Tokenizer\n",
    "from tensorflow.keras.preprocessing.sequence import pad_sequences\n",
    "\n",
    "\n",
    "tokenizer = Tokenizer(num_words=10000, oov_token='<OOV>')\n",
    "tokenizer.fit_on_texts(training_sentences)\n",
    "\n",
    "word_index = tokenizer.word_index\n",
    "\n",
    "training_sequences = tokenizer.texts_to_sequences(training_sentences)\n",
    "training_padded = pad_sequences(training_sequences, maxlen=max_length, padding=padding_type, truncating=trunc_type)\n",
    "\n",
    "testing_sequences = tokenizer.texts_to_sequences(testing_sentences)\n",
    "testing_padded = pad_sequences(testing_sequences, maxlen=max_length, padding=padding_type, truncating=trunc_type)"
   ]
  },
  {
   "cell_type": "code",
   "execution_count": null,
   "metadata": {},
   "outputs": [],
   "source": []
  },
  {
   "cell_type": "code",
   "execution_count": 44,
   "metadata": {},
   "outputs": [],
   "source": [
    "model=tf.keras.Sequential()\n",
    "model.add(tf.keras.layers.Embedding(vocab_size, embedding_dim, input_length=max_length))\n",
    "model.add(tf.keras.layers.GlobalAveragePooling1D())\n",
    "model.add(tf.keras.layers.Dense(units=24, activation='relu'))\n",
    "model.add(tf.keras.layers.Dense(units=24, activation='relu'))\n",
    "model.add(tf.keras.layers.Dense(units=1, activation='sigmoid'))"
   ]
  },
  {
   "cell_type": "code",
   "execution_count": 45,
   "metadata": {},
   "outputs": [],
   "source": [
    "model.compile(optimizer='adam', loss='binary_crossentropy',metrics=['Accuracy'])"
   ]
  },
  {
   "cell_type": "code",
   "execution_count": 46,
   "metadata": {},
   "outputs": [],
   "source": [
    "num_epochs=100"
   ]
  },
  {
   "cell_type": "code",
   "execution_count": 47,
   "metadata": {},
   "outputs": [
    {
     "name": "stdout",
     "output_type": "stream",
     "text": [
      "[1 1 1 ... 0 0 0]\n"
     ]
    }
   ],
   "source": [
    "print(training_labels)"
   ]
  },
  {
   "cell_type": "code",
   "execution_count": 48,
   "metadata": {},
   "outputs": [
    {
     "name": "stdout",
     "output_type": "stream",
     "text": [
      "Epoch 1/100\n",
      "188/188 [==============================] - 1s 3ms/step - loss: 0.6832 - accuracy: 0.0000e+00 - val_loss: 0.6862 - val_accuracy: 0.0000e+00\n",
      "Epoch 2/100\n",
      "188/188 [==============================] - 0s 1ms/step - loss: 0.6633 - accuracy: 0.0000e+00 - val_loss: 0.6272 - val_accuracy: 0.0000e+00\n",
      "Epoch 3/100\n",
      "188/188 [==============================] - 0s 1ms/step - loss: 0.5371 - accuracy: 0.0000e+00 - val_loss: 0.4963 - val_accuracy: 0.0000e+00\n",
      "Epoch 4/100\n",
      "188/188 [==============================] - 0s 1ms/step - loss: 0.3684 - accuracy: 0.0000e+00 - val_loss: 0.5156 - val_accuracy: 0.0000e+00\n",
      "Epoch 5/100\n",
      "188/188 [==============================] - 0s 1ms/step - loss: 0.3158 - accuracy: 0.0000e+00 - val_loss: 0.4804 - val_accuracy: 0.0000e+00\n",
      "Epoch 6/100\n",
      "188/188 [==============================] - 0s 1ms/step - loss: 0.2479 - accuracy: 0.0000e+00 - val_loss: 0.4793 - val_accuracy: 0.0000e+00\n",
      "Epoch 7/100\n",
      "188/188 [==============================] - 0s 1ms/step - loss: 0.2156 - accuracy: 0.0000e+00 - val_loss: 0.5002 - val_accuracy: 0.0000e+00\n",
      "Epoch 8/100\n",
      "188/188 [==============================] - 0s 1ms/step - loss: 0.1852 - accuracy: 0.0000e+00 - val_loss: 0.5243 - val_accuracy: 0.0000e+00\n",
      "Epoch 9/100\n",
      "188/188 [==============================] - 0s 1ms/step - loss: 0.1642 - accuracy: 0.0000e+00 - val_loss: 0.5583 - val_accuracy: 0.0000e+00\n",
      "Epoch 10/100\n",
      "188/188 [==============================] - 0s 1ms/step - loss: 0.1323 - accuracy: 0.0000e+00 - val_loss: 0.5965 - val_accuracy: 0.0000e+00\n",
      "Epoch 11/100\n",
      "188/188 [==============================] - 0s 1ms/step - loss: 0.1282 - accuracy: 0.0000e+00 - val_loss: 0.6186 - val_accuracy: 0.0000e+00\n",
      "Epoch 12/100\n",
      "188/188 [==============================] - 0s 1ms/step - loss: 0.1043 - accuracy: 0.0000e+00 - val_loss: 0.6718 - val_accuracy: 0.0000e+00\n",
      "Epoch 13/100\n",
      "188/188 [==============================] - 0s 1ms/step - loss: 0.0962 - accuracy: 0.0000e+00 - val_loss: 0.6985 - val_accuracy: 0.0000e+00\n",
      "Epoch 14/100\n",
      "188/188 [==============================] - 0s 1ms/step - loss: 0.0923 - accuracy: 0.0000e+00 - val_loss: 0.8061 - val_accuracy: 0.0000e+00\n",
      "Epoch 15/100\n",
      "188/188 [==============================] - 0s 1ms/step - loss: 0.0765 - accuracy: 0.0000e+00 - val_loss: 0.8178 - val_accuracy: 0.0000e+00\n",
      "Epoch 16/100\n",
      "188/188 [==============================] - 0s 1ms/step - loss: 0.0656 - accuracy: 0.0000e+00 - val_loss: 0.8260 - val_accuracy: 0.0000e+00\n",
      "Epoch 17/100\n",
      "188/188 [==============================] - 0s 1ms/step - loss: 0.0650 - accuracy: 0.0000e+00 - val_loss: 0.8524 - val_accuracy: 0.0000e+00\n",
      "Epoch 18/100\n",
      "188/188 [==============================] - 0s 1ms/step - loss: 0.0591 - accuracy: 0.0000e+00 - val_loss: 0.9213 - val_accuracy: 0.0000e+00\n",
      "Epoch 19/100\n",
      "188/188 [==============================] - 0s 1ms/step - loss: 0.0598 - accuracy: 0.0000e+00 - val_loss: 1.0054 - val_accuracy: 0.0000e+00\n",
      "Epoch 20/100\n",
      "188/188 [==============================] - 0s 1ms/step - loss: 0.0502 - accuracy: 0.0000e+00 - val_loss: 0.9833 - val_accuracy: 0.0000e+00\n",
      "Epoch 21/100\n",
      "188/188 [==============================] - 0s 1ms/step - loss: 0.0493 - accuracy: 0.0000e+00 - val_loss: 0.9982 - val_accuracy: 0.0000e+00\n",
      "Epoch 22/100\n",
      "188/188 [==============================] - 0s 1ms/step - loss: 0.0469 - accuracy: 0.0000e+00 - val_loss: 1.0259 - val_accuracy: 0.0000e+00\n",
      "Epoch 23/100\n",
      "188/188 [==============================] - 0s 1ms/step - loss: 0.0515 - accuracy: 0.0000e+00 - val_loss: 1.0860 - val_accuracy: 0.0000e+00\n",
      "Epoch 24/100\n",
      "188/188 [==============================] - 0s 1ms/step - loss: 0.0451 - accuracy: 0.0000e+00 - val_loss: 1.1425 - val_accuracy: 0.0000e+00\n",
      "Epoch 25/100\n",
      "188/188 [==============================] - 0s 1ms/step - loss: 0.0423 - accuracy: 0.0000e+00 - val_loss: 1.1433 - val_accuracy: 0.0000e+00\n",
      "Epoch 26/100\n",
      "188/188 [==============================] - 0s 1ms/step - loss: 0.0418 - accuracy: 0.0000e+00 - val_loss: 1.2035 - val_accuracy: 0.0000e+00\n",
      "Epoch 27/100\n",
      "188/188 [==============================] - 0s 1ms/step - loss: 0.0448 - accuracy: 0.0000e+00 - val_loss: 1.1752 - val_accuracy: 0.0000e+00\n",
      "Epoch 28/100\n",
      "188/188 [==============================] - 0s 1ms/step - loss: 0.0375 - accuracy: 0.0000e+00 - val_loss: 1.1976 - val_accuracy: 0.0000e+00\n",
      "Epoch 29/100\n",
      "188/188 [==============================] - 0s 1ms/step - loss: 0.0402 - accuracy: 0.0000e+00 - val_loss: 1.2307 - val_accuracy: 0.0000e+00\n",
      "Epoch 30/100\n",
      "188/188 [==============================] - 0s 1ms/step - loss: 0.0386 - accuracy: 0.0000e+00 - val_loss: 1.2515 - val_accuracy: 0.0000e+00\n",
      "Epoch 31/100\n",
      "188/188 [==============================] - 0s 1ms/step - loss: 0.0473 - accuracy: 0.0000e+00 - val_loss: 1.2725 - val_accuracy: 0.0000e+00\n",
      "Epoch 32/100\n",
      "188/188 [==============================] - 0s 1ms/step - loss: 0.0391 - accuracy: 0.0000e+00 - val_loss: 1.2781 - val_accuracy: 0.0000e+00\n",
      "Epoch 33/100\n",
      "188/188 [==============================] - 0s 1ms/step - loss: 0.0349 - accuracy: 0.0000e+00 - val_loss: 1.3154 - val_accuracy: 0.0000e+00\n",
      "Epoch 34/100\n",
      "188/188 [==============================] - 0s 1ms/step - loss: 0.0407 - accuracy: 0.0000e+00 - val_loss: 1.3222 - val_accuracy: 0.0000e+00\n",
      "Epoch 35/100\n",
      "188/188 [==============================] - 0s 1ms/step - loss: 0.0338 - accuracy: 0.0000e+00 - val_loss: 1.4411 - val_accuracy: 0.0000e+00\n",
      "Epoch 36/100\n",
      "188/188 [==============================] - 0s 1ms/step - loss: 0.0308 - accuracy: 0.0000e+00 - val_loss: 1.3876 - val_accuracy: 0.0000e+00\n",
      "Epoch 37/100\n",
      "188/188 [==============================] - 0s 1ms/step - loss: 0.0337 - accuracy: 0.0000e+00 - val_loss: 1.4262 - val_accuracy: 0.0000e+00\n",
      "Epoch 38/100\n",
      "188/188 [==============================] - 0s 1ms/step - loss: 0.0330 - accuracy: 0.0000e+00 - val_loss: 1.5971 - val_accuracy: 0.0000e+00\n",
      "Epoch 39/100\n",
      "188/188 [==============================] - 0s 1ms/step - loss: 0.0365 - accuracy: 0.0000e+00 - val_loss: 1.4613 - val_accuracy: 0.0000e+00\n",
      "Epoch 40/100\n",
      "188/188 [==============================] - 0s 1ms/step - loss: 0.0404 - accuracy: 0.0000e+00 - val_loss: 1.4835 - val_accuracy: 0.0000e+00\n",
      "Epoch 41/100\n",
      "188/188 [==============================] - 0s 1ms/step - loss: 0.0305 - accuracy: 0.0000e+00 - val_loss: 1.4650 - val_accuracy: 0.0000e+00\n",
      "Epoch 42/100\n",
      "188/188 [==============================] - 0s 1ms/step - loss: 0.0319 - accuracy: 0.0000e+00 - val_loss: 1.6027 - val_accuracy: 0.0000e+00\n",
      "Epoch 43/100\n",
      "188/188 [==============================] - 0s 1ms/step - loss: 0.0418 - accuracy: 0.0000e+00 - val_loss: 1.4594 - val_accuracy: 0.0000e+00\n",
      "Epoch 44/100\n",
      "188/188 [==============================] - 0s 1ms/step - loss: 0.0281 - accuracy: 0.0000e+00 - val_loss: 1.5165 - val_accuracy: 0.0000e+00\n",
      "Epoch 45/100\n",
      "188/188 [==============================] - 0s 1ms/step - loss: 0.0291 - accuracy: 0.0000e+00 - val_loss: 1.4827 - val_accuracy: 0.0000e+00\n",
      "Epoch 46/100\n",
      "188/188 [==============================] - 0s 1ms/step - loss: 0.0318 - accuracy: 0.0000e+00 - val_loss: 1.5433 - val_accuracy: 0.0000e+00\n",
      "Epoch 47/100\n",
      "188/188 [==============================] - 0s 1ms/step - loss: 0.0268 - accuracy: 0.0000e+00 - val_loss: 1.5399 - val_accuracy: 0.0000e+00\n",
      "Epoch 48/100\n",
      "188/188 [==============================] - 0s 1ms/step - loss: 0.0269 - accuracy: 0.0000e+00 - val_loss: 1.6703 - val_accuracy: 0.0000e+00\n",
      "Epoch 49/100\n",
      "188/188 [==============================] - 0s 1ms/step - loss: 0.0286 - accuracy: 0.0000e+00 - val_loss: 1.6386 - val_accuracy: 0.0000e+00\n",
      "Epoch 50/100\n",
      "188/188 [==============================] - 0s 1ms/step - loss: 0.0281 - accuracy: 0.0000e+00 - val_loss: 1.6276 - val_accuracy: 0.0000e+00\n",
      "Epoch 51/100\n",
      "188/188 [==============================] - 0s 1ms/step - loss: 0.0322 - accuracy: 0.0000e+00 - val_loss: 1.5866 - val_accuracy: 0.0000e+00\n",
      "Epoch 52/100\n",
      "188/188 [==============================] - 0s 1ms/step - loss: 0.0281 - accuracy: 0.0000e+00 - val_loss: 1.6263 - val_accuracy: 0.0000e+00\n",
      "Epoch 53/100\n",
      "188/188 [==============================] - 0s 1ms/step - loss: 0.0289 - accuracy: 0.0000e+00 - val_loss: 1.5945 - val_accuracy: 0.0000e+00\n",
      "Epoch 54/100\n",
      "188/188 [==============================] - 0s 1ms/step - loss: 0.0302 - accuracy: 0.0000e+00 - val_loss: 1.6110 - val_accuracy: 0.0000e+00\n"
     ]
    },
    {
     "name": "stdout",
     "output_type": "stream",
     "text": [
      "Epoch 55/100\n",
      "188/188 [==============================] - 0s 1ms/step - loss: 0.0284 - accuracy: 0.0000e+00 - val_loss: 1.6283 - val_accuracy: 0.0000e+00\n",
      "Epoch 56/100\n",
      "188/188 [==============================] - 0s 1ms/step - loss: 0.0314 - accuracy: 0.0000e+00 - val_loss: 1.7314 - val_accuracy: 0.0000e+00\n",
      "Epoch 57/100\n",
      "188/188 [==============================] - 0s 1ms/step - loss: 0.0314 - accuracy: 0.0000e+00 - val_loss: 1.6244 - val_accuracy: 0.0000e+00\n",
      "Epoch 58/100\n",
      "188/188 [==============================] - 0s 1ms/step - loss: 0.0258 - accuracy: 0.0000e+00 - val_loss: 1.7338 - val_accuracy: 0.0000e+00\n",
      "Epoch 59/100\n",
      "188/188 [==============================] - 0s 1ms/step - loss: 0.0243 - accuracy: 0.0000e+00 - val_loss: 1.6782 - val_accuracy: 0.0000e+00\n",
      "Epoch 60/100\n",
      "188/188 [==============================] - 0s 1ms/step - loss: 0.0310 - accuracy: 0.0000e+00 - val_loss: 1.6678 - val_accuracy: 0.0000e+00\n",
      "Epoch 61/100\n",
      "188/188 [==============================] - 0s 1ms/step - loss: 0.0341 - accuracy: 0.0000e+00 - val_loss: 1.6516 - val_accuracy: 0.0000e+00\n",
      "Epoch 62/100\n",
      "188/188 [==============================] - 0s 1ms/step - loss: 0.0232 - accuracy: 0.0000e+00 - val_loss: 1.8111 - val_accuracy: 0.0000e+00\n",
      "Epoch 63/100\n",
      "188/188 [==============================] - 0s 1ms/step - loss: 0.0281 - accuracy: 0.0000e+00 - val_loss: 1.6702 - val_accuracy: 0.0000e+00\n",
      "Epoch 64/100\n",
      "188/188 [==============================] - 0s 1ms/step - loss: 0.0226 - accuracy: 0.0000e+00 - val_loss: 1.7194 - val_accuracy: 0.0000e+00\n",
      "Epoch 65/100\n",
      "188/188 [==============================] - 0s 1ms/step - loss: 0.0294 - accuracy: 0.0000e+00 - val_loss: 1.6844 - val_accuracy: 0.0000e+00\n",
      "Epoch 66/100\n",
      "188/188 [==============================] - 0s 1ms/step - loss: 0.0251 - accuracy: 0.0000e+00 - val_loss: 1.7005 - val_accuracy: 0.0000e+00\n",
      "Epoch 67/100\n",
      "188/188 [==============================] - 0s 1ms/step - loss: 0.0268 - accuracy: 0.0000e+00 - val_loss: 1.7243 - val_accuracy: 0.0000e+00\n",
      "Epoch 68/100\n",
      "188/188 [==============================] - 0s 1ms/step - loss: 0.0263 - accuracy: 0.0000e+00 - val_loss: 1.7025 - val_accuracy: 0.0000e+00\n",
      "Epoch 69/100\n",
      "188/188 [==============================] - 0s 1ms/step - loss: 0.0217 - accuracy: 0.0000e+00 - val_loss: 1.7096 - val_accuracy: 0.0000e+00\n",
      "Epoch 70/100\n",
      "188/188 [==============================] - 0s 1ms/step - loss: 0.0216 - accuracy: 0.0000e+00 - val_loss: 1.8409 - val_accuracy: 0.0000e+00\n",
      "Epoch 71/100\n",
      "188/188 [==============================] - 0s 1ms/step - loss: 0.0283 - accuracy: 0.0000e+00 - val_loss: 1.7907 - val_accuracy: 0.0000e+00\n",
      "Epoch 72/100\n",
      "188/188 [==============================] - 0s 1ms/step - loss: 0.0231 - accuracy: 0.0000e+00 - val_loss: 1.9386 - val_accuracy: 0.0000e+00\n",
      "Epoch 73/100\n",
      "188/188 [==============================] - 0s 1ms/step - loss: 0.0325 - accuracy: 0.0000e+00 - val_loss: 1.7567 - val_accuracy: 0.0000e+00\n",
      "Epoch 74/100\n",
      "188/188 [==============================] - 0s 1ms/step - loss: 0.0237 - accuracy: 0.0000e+00 - val_loss: 1.8597 - val_accuracy: 0.0000e+00\n",
      "Epoch 75/100\n",
      "188/188 [==============================] - 0s 1ms/step - loss: 0.0295 - accuracy: 0.0000e+00 - val_loss: 1.7467 - val_accuracy: 0.0000e+00\n",
      "Epoch 76/100\n",
      "188/188 [==============================] - 0s 1ms/step - loss: 0.0289 - accuracy: 0.0000e+00 - val_loss: 1.7856 - val_accuracy: 0.0000e+00\n",
      "Epoch 77/100\n",
      "188/188 [==============================] - 0s 1ms/step - loss: 0.0297 - accuracy: 0.0000e+00 - val_loss: 1.7825 - val_accuracy: 0.0000e+00\n",
      "Epoch 78/100\n",
      "188/188 [==============================] - 0s 1ms/step - loss: 0.0199 - accuracy: 0.0000e+00 - val_loss: 1.7477 - val_accuracy: 0.0000e+00\n",
      "Epoch 79/100\n",
      "188/188 [==============================] - 0s 1ms/step - loss: 0.0336 - accuracy: 0.0000e+00 - val_loss: 1.7778 - val_accuracy: 0.0000e+00\n",
      "Epoch 80/100\n",
      "188/188 [==============================] - 0s 1ms/step - loss: 0.0272 - accuracy: 0.0000e+00 - val_loss: 1.8317 - val_accuracy: 0.0000e+00\n",
      "Epoch 81/100\n",
      "188/188 [==============================] - 0s 1ms/step - loss: 0.0256 - accuracy: 0.0000e+00 - val_loss: 1.7592 - val_accuracy: 0.0000e+00\n",
      "Epoch 82/100\n",
      "188/188 [==============================] - 0s 1ms/step - loss: 0.0246 - accuracy: 0.0000e+00 - val_loss: 1.7885 - val_accuracy: 0.0000e+00\n",
      "Epoch 83/100\n",
      "188/188 [==============================] - 0s 2ms/step - loss: 0.0214 - accuracy: 1.6825e-04 - val_loss: 1.9022 - val_accuracy: 0.0000e+00\n",
      "Epoch 84/100\n",
      "188/188 [==============================] - 0s 2ms/step - loss: 0.0265 - accuracy: 0.0000e+00 - val_loss: 1.7919 - val_accuracy: 0.0000e+00\n",
      "Epoch 85/100\n",
      "188/188 [==============================] - 0s 2ms/step - loss: 0.0321 - accuracy: 1.8608e-04 - val_loss: 1.7850 - val_accuracy: 0.0000e+00\n",
      "Epoch 86/100\n",
      "188/188 [==============================] - 0s 2ms/step - loss: 0.0225 - accuracy: 1.3644e-05 - val_loss: 1.8541 - val_accuracy: 0.0000e+00\n",
      "Epoch 87/100\n",
      "188/188 [==============================] - 0s 2ms/step - loss: 0.0277 - accuracy: 0.0000e+00 - val_loss: 1.7925 - val_accuracy: 0.0000e+00\n",
      "Epoch 88/100\n",
      "188/188 [==============================] - 0s 1ms/step - loss: 0.0316 - accuracy: 0.0000e+00 - val_loss: 1.8733 - val_accuracy: 0.0000e+00\n",
      "Epoch 89/100\n",
      "188/188 [==============================] - 0s 1ms/step - loss: 0.0243 - accuracy: 0.0000e+00 - val_loss: 1.8628 - val_accuracy: 0.0000e+00\n",
      "Epoch 90/100\n",
      "188/188 [==============================] - 0s 1ms/step - loss: 0.0276 - accuracy: 0.0000e+00 - val_loss: 1.9046 - val_accuracy: 0.0000e+00\n",
      "Epoch 91/100\n",
      "188/188 [==============================] - 0s 1ms/step - loss: 0.0226 - accuracy: 0.0000e+00 - val_loss: 1.8842 - val_accuracy: 0.0000e+00\n",
      "Epoch 92/100\n",
      "188/188 [==============================] - 0s 1ms/step - loss: 0.0258 - accuracy: 0.0000e+00 - val_loss: 1.8226 - val_accuracy: 0.0000e+00\n",
      "Epoch 93/100\n",
      "188/188 [==============================] - 0s 1ms/step - loss: 0.0253 - accuracy: 0.0000e+00 - val_loss: 1.8458 - val_accuracy: 0.0000e+00\n",
      "Epoch 94/100\n",
      "188/188 [==============================] - 0s 1ms/step - loss: 0.0234 - accuracy: 0.0000e+00 - val_loss: 1.9204 - val_accuracy: 0.0000e+00\n",
      "Epoch 95/100\n",
      "188/188 [==============================] - 0s 1ms/step - loss: 0.0290 - accuracy: 0.0000e+00 - val_loss: 1.9019 - val_accuracy: 0.0000e+00\n",
      "Epoch 96/100\n",
      "188/188 [==============================] - 0s 1ms/step - loss: 0.0218 - accuracy: 3.5926e-05 - val_loss: 1.9043 - val_accuracy: 0.0000e+00\n",
      "Epoch 97/100\n",
      "188/188 [==============================] - 0s 1ms/step - loss: 0.0263 - accuracy: 1.2968e-04 - val_loss: 1.8805 - val_accuracy: 0.0000e+00\n",
      "Epoch 98/100\n",
      "188/188 [==============================] - 0s 1ms/step - loss: 0.0272 - accuracy: 1.4595e-05 - val_loss: 1.8746 - val_accuracy: 0.0000e+00\n",
      "Epoch 99/100\n",
      "188/188 [==============================] - 0s 1ms/step - loss: 0.0264 - accuracy: 0.0000e+00 - val_loss: 1.8957 - val_accuracy: 0.0000e+00\n",
      "Epoch 100/100\n",
      "188/188 [==============================] - 0s 1ms/step - loss: 0.0237 - accuracy: 0.0000e+00 - val_loss: 1.8952 - val_accuracy: 0.0000e+00\n"
     ]
    }
   ],
   "source": [
    "history = model.fit(training_padded, training_labels,validation_data=(testing_padded, testing_labels), epochs=num_epochs, batch_size=32)"
   ]
  },
  {
   "cell_type": "code",
   "execution_count": 49,
   "metadata": {},
   "outputs": [
    {
     "data": {
      "image/png": "[encoded data removed]",
      "text/plain": [
       "<Figure size 432x288 with 1 Axes>"
      ]
     },
     "metadata": {
      "needs_background": "light"
     },
     "output_type": "display_data"
    },
    {
     "data": {
      "image/png": "[encoded data removed]",
      "text/plain": [
       "<Figure size 432x288 with 1 Axes>"
      ]
     },
     "metadata": {
      "needs_background": "light"
     },
     "output_type": "display_data"
    }
   ],
   "source": [
    "import matplotlib.pyplot as plt\n",
    "\n",
    "\n",
    "def plot_graphs(history, string):\n",
    "  plt.plot(history.history[string])\n",
    "  #plt.plot(history.history['val_'+string])\n",
    "  plt.xlabel(\"Epochs\")\n",
    "  plt.ylabel(string)\n",
    "  plt.legend([string, 'val_'+string])\n",
    "  plt.show()\n",
    "  \n",
    "plot_graphs(history, \"accuracy\")\n",
    "plot_graphs(history, \"loss\")"
   ]
  },
  {
   "cell_type": "code",
   "execution_count": 50,
   "metadata": {},
   "outputs": [
    {
     "name": "stdout",
     "output_type": "stream",
     "text": [
      "[[0 0]\n",
      " [0 0]\n",
      " [0 0]\n",
      " ...\n",
      " [1 1]\n",
      " [1 1]\n",
      " [1 1]]\n"
     ]
    }
   ],
   "source": [
    "y_pred = model.predict(testing_padded)\n",
    "y_pred = y_pred >0.5\n",
    "print(np.concatenate((y_pred.reshape(len(y_pred),1), testing_labels.reshape(len(testing_labels),1)),1))"
   ]
  },
  {
   "cell_type": "code",
   "execution_count": 51,
   "metadata": {},
   "outputs": [
    {
     "name": "stdout",
     "output_type": "stream",
     "text": [
      "[[578 281]\n",
      " [238 516]]\n"
     ]
    },
    {
     "data": {
      "text/plain": [
       "67.82393056416615"
      ]
     },
     "execution_count": 51,
     "metadata": {},
     "output_type": "execute_result"
    }
   ],
   "source": [
    "from sklearn.metrics import confusion_matrix, accuracy_score\n",
    "cm = confusion_matrix(testing_labels, y_pred)\n",
    "print(cm)\n",
    "accuracy_score(testing_labels, y_pred)*100"
   ]
  },
  {
   "cell_type": "code",
   "execution_count": null,
   "metadata": {},
   "outputs": [],
   "source": []
  }
 ],
 "metadata": {
  "kernelspec": {
   "display_name": "Python 3",
   "language": "python",
   "name": "python3"
  },
  "language_info": {
   "codemirror_mode": {
    "name": "ipython",
    "version": 3
   },
   "file_extension": ".py",
   "mimetype": "text/x-python",
   "name": "python",
   "nbconvert_exporter": "python",
   "pygments_lexer": "ipython3",
   "version": "3.8.5"
  }
 },
 "nbformat": 4,
 "nbformat_minor": 4
}
